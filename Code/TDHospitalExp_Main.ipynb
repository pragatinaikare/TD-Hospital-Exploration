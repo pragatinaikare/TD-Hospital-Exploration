{
 "cells": [
  {
   "cell_type": "code",
   "execution_count": 1,
   "id": "77580594",
   "metadata": {},
   "outputs": [],
   "source": [
    "import pandas as pd\n",
    "pd.set_option('display.max_columns', None)"
   ]
  },
  {
   "cell_type": "code",
   "execution_count": 2,
   "id": "7c1ed47c",
   "metadata": {},
   "outputs": [],
   "source": [
    "df=pd.read_csv(\"TDHospital/TD_HOSPITAL_TRAIN.csv\")"
   ]
  },
  {
   "cell_type": "code",
   "execution_count": 3,
   "id": "002fc482",
   "metadata": {},
   "outputs": [
    {
     "data": {
      "text/plain": [
       "7058"
      ]
     },
     "execution_count": 3,
     "metadata": {},
     "output_type": "execute_result"
    }
   ],
   "source": [
    "len(df)"
   ]
  },
  {
   "cell_type": "code",
   "execution_count": 4,
   "id": "6c6e1614",
   "metadata": {},
   "outputs": [
    {
     "data": {
      "text/html": [
       "<div>\n",
       "<style scoped>\n",
       "    .dataframe tbody tr th:only-of-type {\n",
       "        vertical-align: middle;\n",
       "    }\n",
       "\n",
       "    .dataframe tbody tr th {\n",
       "        vertical-align: top;\n",
       "    }\n",
       "\n",
       "    .dataframe thead th {\n",
       "        text-align: right;\n",
       "    }\n",
       "</style>\n",
       "<table border=\"1\" class=\"dataframe\">\n",
       "  <thead>\n",
       "    <tr style=\"text-align: right;\">\n",
       "      <th></th>\n",
       "      <th>timeknown</th>\n",
       "      <th>cost</th>\n",
       "      <th>reflex</th>\n",
       "      <th>sex</th>\n",
       "      <th>blood</th>\n",
       "      <th>bloodchem1</th>\n",
       "      <th>bloodchem2</th>\n",
       "      <th>temperature</th>\n",
       "      <th>race</th>\n",
       "      <th>heart</th>\n",
       "      <th>psych1</th>\n",
       "      <th>glucose</th>\n",
       "      <th>psych2</th>\n",
       "      <th>dose</th>\n",
       "      <th>psych3</th>\n",
       "      <th>bp</th>\n",
       "      <th>bloodchem3</th>\n",
       "      <th>confidence</th>\n",
       "      <th>bloodchem4</th>\n",
       "      <th>comorbidity</th>\n",
       "      <th>totalcost</th>\n",
       "      <th>breathing</th>\n",
       "      <th>age</th>\n",
       "      <th>sleep</th>\n",
       "      <th>dnr</th>\n",
       "      <th>bloodchem5</th>\n",
       "      <th>pdeath</th>\n",
       "      <th>meals</th>\n",
       "      <th>pain</th>\n",
       "      <th>primary</th>\n",
       "      <th>psych4</th>\n",
       "      <th>disability</th>\n",
       "      <th>administratorcost</th>\n",
       "      <th>urine</th>\n",
       "      <th>diabetes</th>\n",
       "      <th>income</th>\n",
       "      <th>extraprimary</th>\n",
       "      <th>bloodchem6</th>\n",
       "      <th>education</th>\n",
       "      <th>psych5</th>\n",
       "      <th>psych6</th>\n",
       "      <th>information</th>\n",
       "      <th>cancer</th>\n",
       "      <th>death</th>\n",
       "    </tr>\n",
       "  </thead>\n",
       "  <tbody>\n",
       "    <tr>\n",
       "      <th>0</th>\n",
       "      <td>4.0</td>\n",
       "      <td>3008.38867</td>\n",
       "      <td>11.228005</td>\n",
       "      <td>male</td>\n",
       "      <td>20.699219</td>\n",
       "      <td>2.199707</td>\n",
       "      <td>1.299805</td>\n",
       "      <td>35.59375</td>\n",
       "      <td>white</td>\n",
       "      <td>103.0</td>\n",
       "      <td>4.0</td>\n",
       "      <td>157.0</td>\n",
       "      <td>2.0</td>\n",
       "      <td>5</td>\n",
       "      <td>0.0</td>\n",
       "      <td>107.0</td>\n",
       "      <td>0.399963</td>\n",
       "      <td>4.403557</td>\n",
       "      <td>12.0</td>\n",
       "      <td>6.0</td>\n",
       "      <td>2471.7988</td>\n",
       "      <td>34.0</td>\n",
       "      <td>76.56396</td>\n",
       "      <td>7.519531</td>\n",
       "      <td>dnr before sadm</td>\n",
       "      <td>7.359375</td>\n",
       "      <td>NaN</td>\n",
       "      <td>142.0</td>\n",
       "      <td>2.0</td>\n",
       "      <td>Cirrhosis</td>\n",
       "      <td>NaN</td>\n",
       "      <td>&lt;2 mo. follow-up</td>\n",
       "      <td>3525.0</td>\n",
       "      <td>5360.0</td>\n",
       "      <td>0.0</td>\n",
       "      <td>$11-$25k</td>\n",
       "      <td>COPD/CHF/Cirrhosis</td>\n",
       "      <td>167.5000</td>\n",
       "      <td>20.0</td>\n",
       "      <td>30.0</td>\n",
       "      <td>2.000</td>\n",
       "      <td>0.0</td>\n",
       "      <td>no</td>\n",
       "      <td>1.0</td>\n",
       "    </tr>\n",
       "    <tr>\n",
       "      <th>1</th>\n",
       "      <td>467.0</td>\n",
       "      <td>23585.89060</td>\n",
       "      <td>9.714861</td>\n",
       "      <td>M</td>\n",
       "      <td>9.398438</td>\n",
       "      <td>NaN</td>\n",
       "      <td>0.699951</td>\n",
       "      <td>39.00000</td>\n",
       "      <td>white</td>\n",
       "      <td>50.0</td>\n",
       "      <td>3.0</td>\n",
       "      <td>271.0</td>\n",
       "      <td>1.0</td>\n",
       "      <td>5</td>\n",
       "      <td>0.0</td>\n",
       "      <td>105.0</td>\n",
       "      <td>NaN</td>\n",
       "      <td>20.260360</td>\n",
       "      <td>10.0</td>\n",
       "      <td>1.0</td>\n",
       "      <td>20651.7812</td>\n",
       "      <td>26.0</td>\n",
       "      <td>63.33499</td>\n",
       "      <td>7.479492</td>\n",
       "      <td>no dnr</td>\n",
       "      <td>7.509766</td>\n",
       "      <td>NaN</td>\n",
       "      <td>132.0</td>\n",
       "      <td>3.0</td>\n",
       "      <td>Colon Cancer</td>\n",
       "      <td>0.0</td>\n",
       "      <td>NaN</td>\n",
       "      <td>43200.0</td>\n",
       "      <td>2570.0</td>\n",
       "      <td>0.0</td>\n",
       "      <td>&gt;$50k</td>\n",
       "      <td>Cancer</td>\n",
       "      <td>480.0000</td>\n",
       "      <td>16.0</td>\n",
       "      <td>11.5</td>\n",
       "      <td>1.000</td>\n",
       "      <td>10.0</td>\n",
       "      <td>metastatic</td>\n",
       "      <td>1.0</td>\n",
       "    </tr>\n",
       "    <tr>\n",
       "      <th>2</th>\n",
       "      <td>533.0</td>\n",
       "      <td>4046.45898</td>\n",
       "      <td>11.353296</td>\n",
       "      <td>Male</td>\n",
       "      <td>19.296875</td>\n",
       "      <td>NaN</td>\n",
       "      <td>1.599854</td>\n",
       "      <td>38.19531</td>\n",
       "      <td>white</td>\n",
       "      <td>50.0</td>\n",
       "      <td>3.0</td>\n",
       "      <td>117.0</td>\n",
       "      <td>0.0</td>\n",
       "      <td>5</td>\n",
       "      <td>0.0</td>\n",
       "      <td>73.0</td>\n",
       "      <td>NaN</td>\n",
       "      <td>10.153806</td>\n",
       "      <td>28.0</td>\n",
       "      <td>3.0</td>\n",
       "      <td>4113.6797</td>\n",
       "      <td>13.0</td>\n",
       "      <td>70.52698</td>\n",
       "      <td>NaN</td>\n",
       "      <td>no dnr</td>\n",
       "      <td>7.459961</td>\n",
       "      <td>NaN</td>\n",
       "      <td>131.0</td>\n",
       "      <td>1.0</td>\n",
       "      <td>ARF/MOSF w/Sepsis</td>\n",
       "      <td>1.0</td>\n",
       "      <td>no(M2 and SIP pres)</td>\n",
       "      <td>5894.0</td>\n",
       "      <td>1690.0</td>\n",
       "      <td>1.0</td>\n",
       "      <td>under $11k</td>\n",
       "      <td>ARF/MOSF</td>\n",
       "      <td>177.1250</td>\n",
       "      <td>5.0</td>\n",
       "      <td>18.0</td>\n",
       "      <td>0.000</td>\n",
       "      <td>5.0</td>\n",
       "      <td>yes</td>\n",
       "      <td>0.0</td>\n",
       "    </tr>\n",
       "    <tr>\n",
       "      <th>3</th>\n",
       "      <td>68.0</td>\n",
       "      <td>NaN</td>\n",
       "      <td>9.269058</td>\n",
       "      <td>female</td>\n",
       "      <td>7.500000</td>\n",
       "      <td>2.500000</td>\n",
       "      <td>0.599976</td>\n",
       "      <td>37.59375</td>\n",
       "      <td>white</td>\n",
       "      <td>80.0</td>\n",
       "      <td>4.0</td>\n",
       "      <td>NaN</td>\n",
       "      <td>NaN</td>\n",
       "      <td>5</td>\n",
       "      <td>0.0</td>\n",
       "      <td>120.0</td>\n",
       "      <td>3.699707</td>\n",
       "      <td>26.700676</td>\n",
       "      <td>NaN</td>\n",
       "      <td>1.0</td>\n",
       "      <td>9094.3281</td>\n",
       "      <td>18.0</td>\n",
       "      <td>55.31799</td>\n",
       "      <td>7.379883</td>\n",
       "      <td>no dnr</td>\n",
       "      <td>NaN</td>\n",
       "      <td>NaN</td>\n",
       "      <td>121.0</td>\n",
       "      <td>1.0</td>\n",
       "      <td>Cirrhosis</td>\n",
       "      <td>2.0</td>\n",
       "      <td>NaN</td>\n",
       "      <td>16717.0</td>\n",
       "      <td>NaN</td>\n",
       "      <td>0.0</td>\n",
       "      <td>$11-$25k</td>\n",
       "      <td>COPD/CHF/Cirrhosis</td>\n",
       "      <td>NaN</td>\n",
       "      <td>12.0</td>\n",
       "      <td>7.0</td>\n",
       "      <td>1.839</td>\n",
       "      <td>12.0</td>\n",
       "      <td>no</td>\n",
       "      <td>1.0</td>\n",
       "    </tr>\n",
       "    <tr>\n",
       "      <th>4</th>\n",
       "      <td>1605.0</td>\n",
       "      <td>6457.70703</td>\n",
       "      <td>8.655387</td>\n",
       "      <td>female</td>\n",
       "      <td>15.099609</td>\n",
       "      <td>4.399414</td>\n",
       "      <td>0.699951</td>\n",
       "      <td>35.69531</td>\n",
       "      <td>white</td>\n",
       "      <td>114.0</td>\n",
       "      <td>4.0</td>\n",
       "      <td>NaN</td>\n",
       "      <td>6.0</td>\n",
       "      <td>5</td>\n",
       "      <td>0.0</td>\n",
       "      <td>130.0</td>\n",
       "      <td>0.399963</td>\n",
       "      <td>9.962359</td>\n",
       "      <td>NaN</td>\n",
       "      <td>2.0</td>\n",
       "      <td>7150.9766</td>\n",
       "      <td>28.0</td>\n",
       "      <td>67.06598</td>\n",
       "      <td>7.429688</td>\n",
       "      <td>no dnr</td>\n",
       "      <td>7.449219</td>\n",
       "      <td>NaN</td>\n",
       "      <td>133.0</td>\n",
       "      <td>4.0</td>\n",
       "      <td>COPD</td>\n",
       "      <td>5.0</td>\n",
       "      <td>no(M2 and SIP pres)</td>\n",
       "      <td>10151.0</td>\n",
       "      <td>NaN</td>\n",
       "      <td>0.0</td>\n",
       "      <td>under $11k</td>\n",
       "      <td>COPD/CHF/Cirrhosis</td>\n",
       "      <td>233.3125</td>\n",
       "      <td>2.0</td>\n",
       "      <td>7.0</td>\n",
       "      <td>6.000</td>\n",
       "      <td>12.0</td>\n",
       "      <td>no</td>\n",
       "      <td>0.0</td>\n",
       "    </tr>\n",
       "  </tbody>\n",
       "</table>\n",
       "</div>"
      ],
      "text/plain": [
       "   timeknown         cost     reflex     sex      blood  bloodchem1  \\\n",
       "0        4.0   3008.38867  11.228005    male  20.699219    2.199707   \n",
       "1      467.0  23585.89060   9.714861       M   9.398438         NaN   \n",
       "2      533.0   4046.45898  11.353296    Male  19.296875         NaN   \n",
       "3       68.0          NaN   9.269058  female   7.500000    2.500000   \n",
       "4     1605.0   6457.70703   8.655387  female  15.099609    4.399414   \n",
       "\n",
       "   bloodchem2  temperature   race  heart  psych1  glucose  psych2  dose  \\\n",
       "0    1.299805     35.59375  white  103.0     4.0    157.0     2.0     5   \n",
       "1    0.699951     39.00000  white   50.0     3.0    271.0     1.0     5   \n",
       "2    1.599854     38.19531  white   50.0     3.0    117.0     0.0     5   \n",
       "3    0.599976     37.59375  white   80.0     4.0      NaN     NaN     5   \n",
       "4    0.699951     35.69531  white  114.0     4.0      NaN     6.0     5   \n",
       "\n",
       "   psych3     bp  bloodchem3  confidence  bloodchem4  comorbidity   totalcost  \\\n",
       "0     0.0  107.0    0.399963    4.403557        12.0          6.0   2471.7988   \n",
       "1     0.0  105.0         NaN   20.260360        10.0          1.0  20651.7812   \n",
       "2     0.0   73.0         NaN   10.153806        28.0          3.0   4113.6797   \n",
       "3     0.0  120.0    3.699707   26.700676         NaN          1.0   9094.3281   \n",
       "4     0.0  130.0    0.399963    9.962359         NaN          2.0   7150.9766   \n",
       "\n",
       "   breathing       age     sleep              dnr  bloodchem5  pdeath  meals  \\\n",
       "0       34.0  76.56396  7.519531  dnr before sadm    7.359375     NaN  142.0   \n",
       "1       26.0  63.33499  7.479492           no dnr    7.509766     NaN  132.0   \n",
       "2       13.0  70.52698       NaN           no dnr    7.459961     NaN  131.0   \n",
       "3       18.0  55.31799  7.379883           no dnr         NaN     NaN  121.0   \n",
       "4       28.0  67.06598  7.429688           no dnr    7.449219     NaN  133.0   \n",
       "\n",
       "   pain            primary  psych4           disability  administratorcost  \\\n",
       "0   2.0          Cirrhosis     NaN     <2 mo. follow-up             3525.0   \n",
       "1   3.0       Colon Cancer     0.0                  NaN            43200.0   \n",
       "2   1.0  ARF/MOSF w/Sepsis     1.0  no(M2 and SIP pres)             5894.0   \n",
       "3   1.0          Cirrhosis     2.0                  NaN            16717.0   \n",
       "4   4.0               COPD     5.0  no(M2 and SIP pres)            10151.0   \n",
       "\n",
       "    urine  diabetes      income        extraprimary  bloodchem6  education  \\\n",
       "0  5360.0       0.0    $11-$25k  COPD/CHF/Cirrhosis    167.5000       20.0   \n",
       "1  2570.0       0.0       >$50k              Cancer    480.0000       16.0   \n",
       "2  1690.0       1.0  under $11k            ARF/MOSF    177.1250        5.0   \n",
       "3     NaN       0.0    $11-$25k  COPD/CHF/Cirrhosis         NaN       12.0   \n",
       "4     NaN       0.0  under $11k  COPD/CHF/Cirrhosis    233.3125        2.0   \n",
       "\n",
       "   psych5  psych6  information      cancer  death  \n",
       "0    30.0   2.000          0.0          no    1.0  \n",
       "1    11.5   1.000         10.0  metastatic    1.0  \n",
       "2    18.0   0.000          5.0         yes    0.0  \n",
       "3     7.0   1.839         12.0          no    1.0  \n",
       "4     7.0   6.000         12.0          no    0.0  "
      ]
     },
     "execution_count": 4,
     "metadata": {},
     "output_type": "execute_result"
    }
   ],
   "source": [
    "df.head()"
   ]
  },
  {
   "cell_type": "code",
   "execution_count": 5,
   "id": "803b26f8",
   "metadata": {},
   "outputs": [
    {
     "data": {
      "text/plain": [
       "timeknown               0\n",
       "cost                 2705\n",
       "reflex                  0\n",
       "sex                     0\n",
       "blood                 161\n",
       "bloodchem1           2591\n",
       "bloodchem2             44\n",
       "temperature             0\n",
       "race                   32\n",
       "heart                   0\n",
       "psych1                  0\n",
       "glucose              3525\n",
       "psych2               2245\n",
       "dose                    0\n",
       "psych3                  0\n",
       "bp                      0\n",
       "bloodchem3           2012\n",
       "confidence            166\n",
       "bloodchem4           3403\n",
       "comorbidity             0\n",
       "totalcost             687\n",
       "breathing               0\n",
       "age                     0\n",
       "sleep                1792\n",
       "dnr                    26\n",
       "bloodchem5           1749\n",
       "pdeath               7058\n",
       "meals                   0\n",
       "pain                    0\n",
       "primary                 0\n",
       "psych4               4334\n",
       "disability           1102\n",
       "administratorcost     139\n",
       "urine                3794\n",
       "diabetes                0\n",
       "income               2275\n",
       "extraprimary            0\n",
       "bloodchem6           1793\n",
       "education            1219\n",
       "psych5                 60\n",
       "psych6                  0\n",
       "information            24\n",
       "cancer                  0\n",
       "death                   0\n",
       "dtype: int64"
      ]
     },
     "execution_count": 5,
     "metadata": {},
     "output_type": "execute_result"
    }
   ],
   "source": [
    "df.isnull().sum()"
   ]
  },
  {
   "cell_type": "code",
   "execution_count": 6,
   "id": "d4e5d113",
   "metadata": {},
   "outputs": [
    {
     "data": {
      "text/plain": [
       "26"
      ]
     },
     "execution_count": 6,
     "metadata": {},
     "output_type": "execute_result"
    }
   ],
   "source": [
    "df.duplicated().sum()"
   ]
  },
  {
   "cell_type": "code",
   "execution_count": 7,
   "id": "9c53aaa0",
   "metadata": {},
   "outputs": [],
   "source": [
    "#dropping features which contains large number of missing values \n",
    "drop_cols=['cost','bloodchem1','glucose','psych2','bloodchem3','bloodchem4','sleep','bloodchem5','pdeath','psych3','psych4','disability','urine','bloodchem6','dose']\n",
    "df.drop(columns=drop_cols, inplace=True)"
   ]
  },
  {
   "cell_type": "code",
   "execution_count": 8,
   "id": "64d8aac4",
   "metadata": {},
   "outputs": [],
   "source": [
    "numeric_columns = ['timeknown','reflex','blood','bloodchem2','temperature','heart','psych1','bp','confidence','comorbidity','totalcost','breathing','age','meals','pain','administratorcost','psych5','psych6','information','education']\n",
    "categorical_columns = ['sex','race','dnr','cancer','extraprimary','diabetes','primary','income']"
   ]
  },
  {
   "cell_type": "code",
   "execution_count": 9,
   "id": "cd3289b0",
   "metadata": {},
   "outputs": [],
   "source": [
    "def mean_value(col):\n",
    "    return df[col].mean()"
   ]
  },
  {
   "cell_type": "code",
   "execution_count": 10,
   "id": "a1836879",
   "metadata": {},
   "outputs": [],
   "source": [
    "fill_dict = {}\n",
    "for col in numeric_columns:\n",
    "    fill_dict[col] = mean_value(col)\n",
    "for col in categorical_columns:\n",
    "    fill_dict[col] = df[col].value_counts().index[0]\n"
   ]
  },
  {
   "cell_type": "code",
   "execution_count": 11,
   "id": "1bb11743",
   "metadata": {},
   "outputs": [
    {
     "data": {
      "text/plain": [
       "{'timeknown': 485.55993199206574,\n",
       " 'reflex': 9.995841085100738,\n",
       " 'blood': 12.428563615313905,\n",
       " 'bloodchem2': 1.7522679232706015,\n",
       " 'temperature': 37.3315513589643,\n",
       " 'heart': 97.23968521436669,\n",
       " 'psych1': 1.8709266081042788,\n",
       " 'bp': 84.57523377727402,\n",
       " 'confidence': 12.35524644813197,\n",
       " 'comorbidity': 1.8641258146783792,\n",
       " 'totalcost': 30804.339769989012,\n",
       " 'breathing': 23.264522527628223,\n",
       " 'age': 66.54257906309152,\n",
       " 'meals': 137.53060357041656,\n",
       " 'pain': 2.999574950410881,\n",
       " 'administratorcost': 59757.22219786097,\n",
       " 'psych5': 22.542951563589593,\n",
       " 'psych6': 1.88585429325588,\n",
       " 'information': 14.720073926642025,\n",
       " 'education': 13.085434938782324,\n",
       " 'sex': 'female',\n",
       " 'race': 'white',\n",
       " 'dnr': 'no dnr',\n",
       " 'cancer': 'no',\n",
       " 'extraprimary': 'ARF/MOSF',\n",
       " 'diabetes': 0.0,\n",
       " 'primary': 'ARF/MOSF w/Sepsis',\n",
       " 'income': 'under $11k'}"
      ]
     },
     "execution_count": 11,
     "metadata": {},
     "output_type": "execute_result"
    }
   ],
   "source": [
    "fill_dict"
   ]
  },
  {
   "cell_type": "code",
   "execution_count": 12,
   "id": "c064ec2c",
   "metadata": {},
   "outputs": [],
   "source": [
    "for col in numeric_columns+categorical_columns:\n",
    "    df[col].fillna(value=fill_dict[col],inplace=True)"
   ]
  },
  {
   "cell_type": "code",
   "execution_count": 13,
   "id": "f9d4e6e4",
   "metadata": {},
   "outputs": [],
   "source": [
    "df.drop_duplicates(inplace=True)"
   ]
  },
  {
   "cell_type": "code",
   "execution_count": 14,
   "id": "4110aaa8",
   "metadata": {},
   "outputs": [],
   "source": [
    "#Ordinal Encoding \n",
    "df['sex'] = df['sex'].replace({'male': 1,'M': 1, '1': 1,'Male':1, 'female': 0})\n",
    "df['race'] = df['race'].replace({'white': '1','black': '0','hispanic':'2','other':'4','asian':'3'})\n",
    "df['cancer'] = df['cancer'].replace({'yes': '1','no': '0','metastatic':'2'})\n",
    "df['dnr'] = df['dnr'].replace({'dnr before sadm': '0','no dnr': '1','dnr after sadm':'2'})\n",
    "df['primary'] = df['primary'].replace({'Cirrhosis': '0','Colon Cancer': '1','ARF/MOSF w/Sepsis':'2', 'COPD':'3','Lung Cancer':'4','MOSF w/Malig':'5', 'CHF':'6','Coma':'7'})\n",
    "df['extraprimary'] = df['extraprimary'].replace({'COPD/CHF/Cirrhosis': '0','Cancer': '1','ARF/MOSF':'2','Coma':'3'})\n",
    "df['income'] = df['income'].replace({'under $11k':0,'$11-$25k':1,'$25-$50k':2,'>$50k':3})"
   ]
  },
  {
   "cell_type": "code",
   "execution_count": 15,
   "id": "2f63ac75",
   "metadata": {},
   "outputs": [],
   "source": [
    "encoded_cols = ['race','cancer','dnr','extraprimary']"
   ]
  },
  {
   "cell_type": "code",
   "execution_count": 16,
   "id": "449817f2",
   "metadata": {},
   "outputs": [],
   "source": [
    "# df = pd.get_dummies(df, encoded_cols)"
   ]
  },
  {
   "cell_type": "code",
   "execution_count": 17,
   "id": "5c693dd7",
   "metadata": {},
   "outputs": [
    {
     "data": {
      "text/html": [
       "<div>\n",
       "<style scoped>\n",
       "    .dataframe tbody tr th:only-of-type {\n",
       "        vertical-align: middle;\n",
       "    }\n",
       "\n",
       "    .dataframe tbody tr th {\n",
       "        vertical-align: top;\n",
       "    }\n",
       "\n",
       "    .dataframe thead th {\n",
       "        text-align: right;\n",
       "    }\n",
       "</style>\n",
       "<table border=\"1\" class=\"dataframe\">\n",
       "  <thead>\n",
       "    <tr style=\"text-align: right;\">\n",
       "      <th></th>\n",
       "      <th>timeknown</th>\n",
       "      <th>reflex</th>\n",
       "      <th>sex</th>\n",
       "      <th>blood</th>\n",
       "      <th>bloodchem2</th>\n",
       "      <th>temperature</th>\n",
       "      <th>race</th>\n",
       "      <th>heart</th>\n",
       "      <th>psych1</th>\n",
       "      <th>bp</th>\n",
       "      <th>confidence</th>\n",
       "      <th>comorbidity</th>\n",
       "      <th>totalcost</th>\n",
       "      <th>breathing</th>\n",
       "      <th>age</th>\n",
       "      <th>dnr</th>\n",
       "      <th>meals</th>\n",
       "      <th>pain</th>\n",
       "      <th>primary</th>\n",
       "      <th>administratorcost</th>\n",
       "      <th>diabetes</th>\n",
       "      <th>income</th>\n",
       "      <th>extraprimary</th>\n",
       "      <th>education</th>\n",
       "      <th>psych5</th>\n",
       "      <th>psych6</th>\n",
       "      <th>information</th>\n",
       "      <th>cancer</th>\n",
       "      <th>death</th>\n",
       "    </tr>\n",
       "  </thead>\n",
       "  <tbody>\n",
       "    <tr>\n",
       "      <th>956</th>\n",
       "      <td>512.0</td>\n",
       "      <td>10.279687</td>\n",
       "      <td>0</td>\n",
       "      <td>14.099609</td>\n",
       "      <td>0.899902</td>\n",
       "      <td>35.5</td>\n",
       "      <td>1</td>\n",
       "      <td>55.0</td>\n",
       "      <td>1.0</td>\n",
       "      <td>63.0</td>\n",
       "      <td>14.346112</td>\n",
       "      <td>1.0</td>\n",
       "      <td>30804.33977</td>\n",
       "      <td>6.0</td>\n",
       "      <td>72.68994</td>\n",
       "      <td>1</td>\n",
       "      <td>143.0</td>\n",
       "      <td>3.0</td>\n",
       "      <td>2</td>\n",
       "      <td>84148.0</td>\n",
       "      <td>1.0</td>\n",
       "      <td>0</td>\n",
       "      <td>2</td>\n",
       "      <td>16.0</td>\n",
       "      <td>25.666656</td>\n",
       "      <td>0.0</td>\n",
       "      <td>17.0</td>\n",
       "      <td>0</td>\n",
       "      <td>0.0</td>\n",
       "    </tr>\n",
       "  </tbody>\n",
       "</table>\n",
       "</div>"
      ],
      "text/plain": [
       "     timeknown     reflex  sex      blood  bloodchem2  temperature race  \\\n",
       "956      512.0  10.279687    0  14.099609    0.899902         35.5    1   \n",
       "\n",
       "     heart  psych1    bp  confidence  comorbidity    totalcost  breathing  \\\n",
       "956   55.0     1.0  63.0   14.346112          1.0  30804.33977        6.0   \n",
       "\n",
       "          age dnr  meals  pain primary  administratorcost  diabetes  income  \\\n",
       "956  72.68994   1  143.0   3.0       2            84148.0       1.0       0   \n",
       "\n",
       "    extraprimary  education     psych5  psych6  information cancer  death  \n",
       "956            2       16.0  25.666656     0.0         17.0      0    0.0  "
      ]
     },
     "execution_count": 17,
     "metadata": {},
     "output_type": "execute_result"
    }
   ],
   "source": [
    "df.sample(1)"
   ]
  },
  {
   "cell_type": "code",
   "execution_count": 18,
   "id": "37f2175d",
   "metadata": {},
   "outputs": [],
   "source": [
    "# drop_dummy_cols = ['race_0','cancer_0','dnr_0','extraprimary_0']"
   ]
  },
  {
   "cell_type": "code",
   "execution_count": 19,
   "id": "97806fe6",
   "metadata": {},
   "outputs": [],
   "source": [
    "# df.drop(labels=drop_dummy_cols,axis=1,inplace=True)"
   ]
  },
  {
   "cell_type": "code",
   "execution_count": 20,
   "id": "d5db9e9a",
   "metadata": {},
   "outputs": [],
   "source": [
    "numeric_data = df[numeric_columns].copy()"
   ]
  },
  {
   "cell_type": "code",
   "execution_count": 21,
   "id": "595bf03a",
   "metadata": {},
   "outputs": [
    {
     "data": {
      "text/plain": [
       "(7032, 20)"
      ]
     },
     "execution_count": 21,
     "metadata": {},
     "output_type": "execute_result"
    }
   ],
   "source": [
    "numeric_data.values.shape"
   ]
  },
  {
   "cell_type": "code",
   "execution_count": 22,
   "id": "6c2326b6",
   "metadata": {},
   "outputs": [],
   "source": [
    "df = df[numeric_columns+categorical_columns + ['death']]"
   ]
  },
  {
   "cell_type": "code",
   "execution_count": 23,
   "id": "7a78365d",
   "metadata": {},
   "outputs": [],
   "source": [
    "X = df.drop(['death'],axis=1).values\n",
    "y = df['death'].values"
   ]
  },
  {
   "cell_type": "code",
   "execution_count": 24,
   "id": "a77d4122",
   "metadata": {},
   "outputs": [
    {
     "data": {
      "text/plain": [
       "(7032, 28)"
      ]
     },
     "execution_count": 24,
     "metadata": {},
     "output_type": "execute_result"
    }
   ],
   "source": [
    "X.shape"
   ]
  },
  {
   "cell_type": "code",
   "execution_count": 25,
   "id": "44d2e871",
   "metadata": {},
   "outputs": [
    {
     "data": {
      "text/plain": [
       "(7032,)"
      ]
     },
     "execution_count": 25,
     "metadata": {},
     "output_type": "execute_result"
    }
   ],
   "source": [
    "y.shape"
   ]
  },
  {
   "cell_type": "code",
   "execution_count": 26,
   "id": "afab24ff",
   "metadata": {},
   "outputs": [
    {
     "name": "stdout",
     "output_type": "stream",
     "text": [
      "Accuracy: 0.8764204545454546\n"
     ]
    }
   ],
   "source": [
    "from sklearn.model_selection import train_test_split\n",
    "from sklearn.ensemble import RandomForestClassifier\n",
    "from sklearn.metrics import accuracy_score\n",
    "\n",
    "# Split the data into a training and testing set\n",
    "X_train, X_val, y_train, y_val = train_test_split(X, y, test_size=0.1, random_state=42)\n",
    "# X_train, y_train = X, y\n",
    "clf = RandomForestClassifier(n_estimators=200, random_state=42)\n",
    "\n",
    "# Training the classifier on the training data\n",
    "clf.fit(X_train, y_train)\n",
    "\n",
    "# Make predictions on the Validation data\n",
    "y_pred = clf.predict(X_val)\n",
    "\n",
    "# Calculate accuracy \n",
    "# \n",
    "accuracy = accuracy_score(y_val, y_pred)\n",
    "print(\"Accuracy:\", accuracy)"
   ]
  },
  {
   "cell_type": "code",
   "execution_count": 27,
   "id": "869031f2",
   "metadata": {},
   "outputs": [
    {
     "name": "stdout",
     "output_type": "stream",
     "text": [
      "Random Forest Accuracy: 0.8735795454545454\n",
      "Best Parameters: {'max_depth': None, 'n_estimators': 100}\n",
      "AdaBoost Accuracy: 0.8451704545454546\n",
      "Best Parameters: {'learning_rate': 1.0, 'n_estimators': 50}\n",
      "Gradient Boosting Accuracy: 0.8707386363636364\n",
      "Best Parameters: {'learning_rate': 0.1, 'n_estimators': 100}\n",
      "Bagging Accuracy: 0.875\n",
      "Best Parameters: {'max_samples': 0.6, 'n_estimators': 200}\n",
      "Voting Accuracy: 0.8551136363636364\n"
     ]
    },
    {
     "ename": "AttributeError",
     "evalue": "'VotingClassifier' object has no attribute 'best_params_'",
     "output_type": "error",
     "traceback": [
      "\u001b[0;31m---------------------------------------------------------------------------\u001b[0m",
      "\u001b[0;31mAttributeError\u001b[0m                            Traceback (most recent call last)",
      "Cell \u001b[0;32mIn[27], line 44\u001b[0m\n\u001b[1;32m     42\u001b[0m accuracy \u001b[38;5;241m=\u001b[39m accuracy_score(y_val, y_pred)  \u001b[38;5;66;03m# Calculate accuracy\u001b[39;00m\n\u001b[1;32m     43\u001b[0m \u001b[38;5;28mprint\u001b[39m(\u001b[38;5;124mf\u001b[39m\u001b[38;5;124m\"\u001b[39m\u001b[38;5;132;01m{\u001b[39;00mmodel_name\u001b[38;5;132;01m}\u001b[39;00m\u001b[38;5;124m Accuracy: \u001b[39m\u001b[38;5;132;01m{\u001b[39;00maccuracy\u001b[38;5;132;01m}\u001b[39;00m\u001b[38;5;124m\"\u001b[39m)\n\u001b[0;32m---> 44\u001b[0m \u001b[38;5;28mprint\u001b[39m(\u001b[38;5;124mf\u001b[39m\u001b[38;5;124m\"\u001b[39m\u001b[38;5;124mBest Parameters: \u001b[39m\u001b[38;5;132;01m{\u001b[39;00mmodel\u001b[38;5;241m.\u001b[39mbest_params_\u001b[38;5;132;01m}\u001b[39;00m\u001b[38;5;124m\"\u001b[39m)\n",
      "\u001b[0;31mAttributeError\u001b[0m: 'VotingClassifier' object has no attribute 'best_params_'"
     ]
    }
   ],
   "source": [
    "import numpy as np\n",
    "from sklearn.metrics import accuracy_score\n",
    "from sklearn.ensemble import RandomForestClassifier, AdaBoostClassifier, GradientBoostingClassifier, BaggingClassifier, VotingClassifier\n",
    "from sklearn.model_selection import GridSearchCV\n",
    "\n",
    "# Define hyperparameter grids for tuning\n",
    "param_grid = {\n",
    "    \"Random Forest\": {\n",
    "        \"n_estimators\": [50,100, 200],\n",
    "        \"max_depth\": [None, 10, 20]\n",
    "    },\n",
    "    \"AdaBoost\": {\n",
    "        \"n_estimators\": [50, 100, 200],\n",
    "        \"learning_rate\": [0.01, 0.1, 1.0]\n",
    "    },\n",
    "    \"Gradient Boosting\": {\n",
    "        \"n_estimators\": [50,150,100,200],\n",
    "        \"learning_rate\": [0.01, 0.1, 1.0]\n",
    "    },\n",
    "    \"Bagging\": {\n",
    "        \"n_estimators\": [50, 100, 200],\n",
    "        \"max_samples\": [1.0, 0.8, 0.6]\n",
    "    },\n",
    "    \"Voting\": {}  # No hyperparameters to tune for VotingClassifier\n",
    "}\n",
    "\n",
    "# multiple ensemble models with hyperparameter tuning\n",
    "ensemble_models = {\n",
    "    \"Random Forest\": GridSearchCV(RandomForestClassifier(random_state=42), param_grid[\"Random Forest\"], cv=5),\n",
    "    \"AdaBoost\": GridSearchCV(AdaBoostClassifier(random_state=42), param_grid[\"AdaBoost\"], cv=5),\n",
    "    \"Gradient Boosting\": GridSearchCV(GradientBoostingClassifier(random_state=42), param_grid[\"Gradient Boosting\"], cv=5),\n",
    "    \"Bagging\": GridSearchCV(BaggingClassifier(random_state=42), param_grid[\"Bagging\"], cv=5),\n",
    "    \"Voting\": VotingClassifier(estimators=[('rf', RandomForestClassifier(random_state=42)), ('ab', AdaBoostClassifier(random_state=42))])\n",
    "}\n",
    "\n",
    "for model_name, model in ensemble_models.items():\n",
    "    model.fit(X_train, y_train)  \n",
    "    y_pred = model.predict(X_val)  \n",
    "    accuracy = accuracy_score(y_val, y_pred)  \n",
    "    print(f\"{model_name} Accuracy: {accuracy}\")\n",
    "    print(f\"Best Parameters: {model.best_params_}\")\n"
   ]
  },
  {
   "cell_type": "code",
   "execution_count": 28,
   "id": "b099efd4",
   "metadata": {},
   "outputs": [],
   "source": [
    "from sklearn.model_selection import train_test_split\n",
    "from sklearn.ensemble import RandomForestClassifier\n",
    "from sklearn.metrics import accuracy_score\n",
    "\n",
    "X_train, y_train = X, y\n",
    "# Create a Random Forest classifier\n",
    "clf = RandomForestClassifier(max_depth= None, n_estimators= 200)\n",
    "\n",
    "# Train the classifier on the training data\n",
    "clf.fit(X_train, y_train)\n",
    "\n",
    "#Saving the model\n",
    "import pickle\n",
    "with open('RF_best.pkl', 'wb') as file:\n",
    "    pickle.dump(clf, file)\n",
    "# y_pred = clf.predict(X_val)\n",
    "\n",
    "# # Calculate accuracy\n",
    "# accuracy = accuracy_score(y_val, y_pred)\n",
    "# print(\"Accuracy:\", accuracy)"
   ]
  },
  {
   "cell_type": "code",
   "execution_count": 29,
   "id": "371e2f28",
   "metadata": {},
   "outputs": [],
   "source": [
    "from sklearn.model_selection import train_test_split\n",
    "from sklearn.ensemble import RandomForestClassifier\n",
    "from sklearn.metrics import accuracy_score\n",
    "\n",
    "\n",
    "X_train, y_train = X, y\n",
    "# Create a GradientBoostingClassifier\n",
    "clf = GradientBoostingClassifier(learning_rate=0.1, n_estimators=100)\n",
    "\n",
    "# Train the classifier on the training data\n",
    "clf.fit(X_train, y_train)\n",
    "#Saving the model\n",
    "import pickle\n",
    "with open('gbc_best.pkl', 'wb') as file:\n",
    "    pickle.dump(clf, file)\n",
    "# y_pred = clf.predict(X_val)\n",
    "\n",
    "# # Calculate accuracy\n",
    "# accuracy = accuracy_score(y_val, y_pred)\n",
    "# print(\"Accuracy:\", accuracy)"
   ]
  },
  {
   "cell_type": "code",
   "execution_count": 30,
   "id": "d772ad6a",
   "metadata": {},
   "outputs": [],
   "source": [
    "from sklearn.model_selection import train_test_split\n",
    "from sklearn.ensemble import RandomForestClassifier\n",
    "from sklearn.metrics import accuracy_score\n",
    "\n",
    "X_train, y_train = X, y\n",
    "# Create a BaggingClassifier\n",
    "clf = BaggingClassifier(max_samples=1,n_estimators=200)\n",
    "clf.fit(X_train, y_train)\n",
    "import pickle\n",
    "with open('bag_best.pkl', 'wb') as file:\n",
    "    pickle.dump(clf, file)\n",
    "\n",
    "#y_pred = clf.predict(X_val)\n",
    "\n",
    "# # Calculate accuracy\n",
    "# accuracy = accuracy_score(y_val, y_pred)\n",
    "# print(\"Accuracy:\", accuracy)"
   ]
  },
  {
   "cell_type": "code",
   "execution_count": 31,
   "id": "99319175",
   "metadata": {},
   "outputs": [
    {
     "name": "stdout",
     "output_type": "stream",
     "text": [
      "Requirement already satisfied: catboost in /Users/pragatin/anaconda3/lib/python3.11/site-packages (1.2.2)\n",
      "Requirement already satisfied: graphviz in /Users/pragatin/anaconda3/lib/python3.11/site-packages (from catboost) (0.20.1)\n",
      "Requirement already satisfied: matplotlib in /Users/pragatin/anaconda3/lib/python3.11/site-packages (from catboost) (3.7.1)\n",
      "Requirement already satisfied: numpy>=1.16.0 in /Users/pragatin/anaconda3/lib/python3.11/site-packages (from catboost) (1.24.3)\n",
      "Requirement already satisfied: pandas>=0.24 in /Users/pragatin/anaconda3/lib/python3.11/site-packages (from catboost) (1.5.3)\n",
      "Requirement already satisfied: scipy in /Users/pragatin/anaconda3/lib/python3.11/site-packages (from catboost) (1.10.1)\n",
      "Requirement already satisfied: plotly in /Users/pragatin/anaconda3/lib/python3.11/site-packages (from catboost) (5.9.0)\n",
      "Requirement already satisfied: six in /Users/pragatin/anaconda3/lib/python3.11/site-packages (from catboost) (1.16.0)\n",
      "Requirement already satisfied: python-dateutil>=2.8.1 in /Users/pragatin/anaconda3/lib/python3.11/site-packages (from pandas>=0.24->catboost) (2.8.2)\n",
      "Requirement already satisfied: pytz>=2020.1 in /Users/pragatin/anaconda3/lib/python3.11/site-packages (from pandas>=0.24->catboost) (2022.7)\n",
      "Requirement already satisfied: contourpy>=1.0.1 in /Users/pragatin/anaconda3/lib/python3.11/site-packages (from matplotlib->catboost) (1.0.5)\n",
      "Requirement already satisfied: cycler>=0.10 in /Users/pragatin/anaconda3/lib/python3.11/site-packages (from matplotlib->catboost) (0.11.0)\n",
      "Requirement already satisfied: fonttools>=4.22.0 in /Users/pragatin/anaconda3/lib/python3.11/site-packages (from matplotlib->catboost) (4.25.0)\n",
      "Requirement already satisfied: kiwisolver>=1.0.1 in /Users/pragatin/anaconda3/lib/python3.11/site-packages (from matplotlib->catboost) (1.4.4)\n",
      "Requirement already satisfied: packaging>=20.0 in /Users/pragatin/anaconda3/lib/python3.11/site-packages (from matplotlib->catboost) (23.0)\n",
      "Requirement already satisfied: pillow>=6.2.0 in /Users/pragatin/anaconda3/lib/python3.11/site-packages (from matplotlib->catboost) (9.4.0)\n",
      "Requirement already satisfied: pyparsing>=2.3.1 in /Users/pragatin/anaconda3/lib/python3.11/site-packages (from matplotlib->catboost) (3.0.9)\n",
      "Requirement already satisfied: tenacity>=6.2.0 in /Users/pragatin/anaconda3/lib/python3.11/site-packages (from plotly->catboost) (8.2.2)\n"
     ]
    }
   ],
   "source": [
    "!pip install catboost\n"
   ]
  },
  {
   "cell_type": "code",
   "execution_count": 32,
   "id": "93d0ebca",
   "metadata": {},
   "outputs": [
    {
     "name": "stdout",
     "output_type": "stream",
     "text": [
      "Accuracy: 0.9488636363636364\n"
     ]
    }
   ],
   "source": [
    "from sklearn.model_selection import train_test_split\n",
    "from sklearn.ensemble import RandomForestClassifier\n",
    "from sklearn.metrics import accuracy_score\n",
    "import catboost as catb\n",
    "\n",
    "X_train, y_train = X, y\n",
    "clf = catb.CatBoostClassifier(iterations=100, verbose=0) \n",
    "clf.fit(X_train, y_train)\n",
    "import pickle\n",
    "with open('cbclass_best.pkl', 'wb') as file:\n",
    "    pickle.dump(clf, file)\n",
    "y_pred = clf.predict(X_val)\n",
    "\n",
    "# Calculate accuracy\n",
    "accuracy = accuracy_score(y_val, y_pred)\n",
    "print(\"Accuracy:\", accuracy)"
   ]
  },
  {
   "cell_type": "code",
   "execution_count": 33,
   "id": "7548d785",
   "metadata": {},
   "outputs": [],
   "source": [
    "import pickle\n",
    "with open('RF_clean.pkl', 'wb') as file:\n",
    "    pickle.dump(clf, file)"
   ]
  },
  {
   "cell_type": "code",
   "execution_count": 34,
   "id": "c8043746",
   "metadata": {},
   "outputs": [
    {
     "data": {
      "text/plain": [
       "Index(['timeknown', 'reflex', 'blood', 'bloodchem2', 'temperature', 'heart',\n",
       "       'psych1', 'bp', 'confidence', 'comorbidity', 'totalcost', 'breathing',\n",
       "       'age', 'meals', 'pain', 'administratorcost', 'psych5', 'psych6',\n",
       "       'information', 'education', 'sex', 'race', 'dnr', 'cancer',\n",
       "       'extraprimary', 'diabetes', 'primary', 'income', 'death'],\n",
       "      dtype='object')"
      ]
     },
     "execution_count": 34,
     "metadata": {},
     "output_type": "execute_result"
    }
   ],
   "source": [
    "df.columns"
   ]
  },
  {
   "cell_type": "code",
   "execution_count": 35,
   "id": "5f0229fc",
   "metadata": {},
   "outputs": [],
   "source": [
    "df1=pd.read_csv(\"TDHospital/TD_HOSPITAL_TRAIN.csv\")"
   ]
  },
  {
   "cell_type": "code",
   "execution_count": 36,
   "id": "9c882e9c",
   "metadata": {},
   "outputs": [],
   "source": [
    "labels = ['timeknown','reflex','blood','bloodchem2', 'diabetes','temperature','heart','psych1','bp','confidence','comorbidity','totalcost','breathing',\n",
    " 'age','meals','pain','administratorcost','psych5','psych6','information','sex','race', 'dnr', 'cancer', 'extraprimary']\n",
    "        "
   ]
  },
  {
   "cell_type": "code",
   "execution_count": 37,
   "id": "c5aabf89",
   "metadata": {},
   "outputs": [],
   "source": [
    "numeric_columns = ['timeknown','reflex','blood','bloodchem2','temperature','heart','psych1','bp','confidence','comorbidity','totalcost','breathing','age','meals','pain','administratorcost','psych5','psych6','information']\n",
    "categorical_columns = ['sex','race','dnr','cancer','extraprimary','diabetes']\n",
    "\n",
    "labels = numeric_columns+categorical_columns\n",
    "values = [None for x in df1.iloc[0,:][labels]]\n",
    "df = dict()\n",
    "for label, value in zip(labels, values):\n",
    "    df[label] = [value]\n",
    "df = pd.DataFrame(df)\n",
    "for col in numeric_columns+categorical_columns:\n",
    "    df[col].fillna(value=fill_dict[col],inplace=True)\n",
    "            \n",
    "df['sex'] = df['sex'].replace({'male': 1,'M': 1, '1': 1,'Male':1, 'female': 0})\n",
    "df['race'] = df['race'].replace({'white': '1','black': '0','hispanic':'2','other':'4','asian':'3'})\n",
    "df['cancer'] = df['cancer'].replace({'yes': '1','no': '0','metastatic':'2'})\n",
    "df['dnr'] = df['dnr'].replace({'dnr before sadm': '0','no dnr': '1','dnr after sadm':'2'})\n",
    "df['extraprimary'] = df['extraprimary'].replace({'COPD/CHF/Cirrhosis': '0','Cancer': '1','ARF/MOSF':'2','Coma':'3'})\n",
    "inp = df.values"
   ]
  },
  {
   "cell_type": "code",
   "execution_count": 38,
   "id": "85bee592",
   "metadata": {},
   "outputs": [
    {
     "data": {
      "text/plain": [
       "25"
      ]
     },
     "execution_count": 38,
     "metadata": {},
     "output_type": "execute_result"
    }
   ],
   "source": [
    "inp.shape[1]"
   ]
  },
  {
   "cell_type": "code",
   "execution_count": 39,
   "id": "d96cce89",
   "metadata": {},
   "outputs": [
    {
     "data": {
      "text/html": [
       "<div>\n",
       "<style scoped>\n",
       "    .dataframe tbody tr th:only-of-type {\n",
       "        vertical-align: middle;\n",
       "    }\n",
       "\n",
       "    .dataframe tbody tr th {\n",
       "        vertical-align: top;\n",
       "    }\n",
       "\n",
       "    .dataframe thead th {\n",
       "        text-align: right;\n",
       "    }\n",
       "</style>\n",
       "<table border=\"1\" class=\"dataframe\">\n",
       "  <thead>\n",
       "    <tr style=\"text-align: right;\">\n",
       "      <th></th>\n",
       "      <th>timeknown</th>\n",
       "      <th>reflex</th>\n",
       "      <th>blood</th>\n",
       "      <th>bloodchem2</th>\n",
       "      <th>temperature</th>\n",
       "      <th>heart</th>\n",
       "      <th>psych1</th>\n",
       "      <th>bp</th>\n",
       "      <th>confidence</th>\n",
       "      <th>comorbidity</th>\n",
       "      <th>totalcost</th>\n",
       "      <th>breathing</th>\n",
       "      <th>age</th>\n",
       "      <th>meals</th>\n",
       "      <th>pain</th>\n",
       "      <th>administratorcost</th>\n",
       "      <th>psych5</th>\n",
       "      <th>psych6</th>\n",
       "      <th>information</th>\n",
       "      <th>sex</th>\n",
       "      <th>race</th>\n",
       "      <th>dnr</th>\n",
       "      <th>cancer</th>\n",
       "      <th>extraprimary</th>\n",
       "      <th>diabetes</th>\n",
       "    </tr>\n",
       "  </thead>\n",
       "  <tbody>\n",
       "    <tr>\n",
       "      <th>0</th>\n",
       "      <td>485.559932</td>\n",
       "      <td>9.995841</td>\n",
       "      <td>12.428564</td>\n",
       "      <td>1.752268</td>\n",
       "      <td>37.331551</td>\n",
       "      <td>97.239685</td>\n",
       "      <td>1.870927</td>\n",
       "      <td>84.575234</td>\n",
       "      <td>12.355246</td>\n",
       "      <td>1.864126</td>\n",
       "      <td>30804.33977</td>\n",
       "      <td>23.264523</td>\n",
       "      <td>66.542579</td>\n",
       "      <td>137.530604</td>\n",
       "      <td>2.999575</td>\n",
       "      <td>59757.222198</td>\n",
       "      <td>22.542952</td>\n",
       "      <td>1.885854</td>\n",
       "      <td>14.720074</td>\n",
       "      <td>0</td>\n",
       "      <td>1</td>\n",
       "      <td>1</td>\n",
       "      <td>0</td>\n",
       "      <td>2</td>\n",
       "      <td>0.0</td>\n",
       "    </tr>\n",
       "  </tbody>\n",
       "</table>\n",
       "</div>"
      ],
      "text/plain": [
       "    timeknown    reflex      blood  bloodchem2  temperature      heart  \\\n",
       "0  485.559932  9.995841  12.428564    1.752268    37.331551  97.239685   \n",
       "\n",
       "     psych1         bp  confidence  comorbidity    totalcost  breathing  \\\n",
       "0  1.870927  84.575234   12.355246     1.864126  30804.33977  23.264523   \n",
       "\n",
       "         age       meals      pain  administratorcost     psych5    psych6  \\\n",
       "0  66.542579  137.530604  2.999575       59757.222198  22.542952  1.885854   \n",
       "\n",
       "   information  sex race dnr cancer extraprimary  diabetes  \n",
       "0    14.720074    0    1   1      0            2       0.0  "
      ]
     },
     "execution_count": 39,
     "metadata": {},
     "output_type": "execute_result"
    }
   ],
   "source": [
    "df"
   ]
  },
  {
   "cell_type": "code",
   "execution_count": 40,
   "id": "8a392562",
   "metadata": {},
   "outputs": [
    {
     "data": {
      "text/plain": [
       "25"
      ]
     },
     "execution_count": 40,
     "metadata": {},
     "output_type": "execute_result"
    }
   ],
   "source": [
    "len(labels)"
   ]
  },
  {
   "cell_type": "code",
   "execution_count": 41,
   "id": "08334687",
   "metadata": {},
   "outputs": [
    {
     "data": {
      "text/plain": [
       "25"
      ]
     },
     "execution_count": 41,
     "metadata": {},
     "output_type": "execute_result"
    }
   ],
   "source": [
    "len(df.columns)"
   ]
  },
  {
   "cell_type": "code",
   "execution_count": 42,
   "id": "ab1df151",
   "metadata": {},
   "outputs": [],
   "source": [
    "str1 = ''\n",
    "for i in numeric_columns+categorical_columns:\n",
    "    str1+=i\n",
    "    str1+=', '"
   ]
  },
  {
   "cell_type": "code",
   "execution_count": 43,
   "id": "64c177c7",
   "metadata": {},
   "outputs": [
    {
     "data": {
      "text/plain": [
       "'timeknown, reflex, blood, bloodchem2, temperature, heart, psych1, bp, confidence, comorbidity, totalcost, breathing, age, meals, pain, administratorcost, psych5, psych6, information, sex, race, dnr, cancer, extraprimary, diabetes, '"
      ]
     },
     "execution_count": 43,
     "metadata": {},
     "output_type": "execute_result"
    }
   ],
   "source": [
    "str1"
   ]
  },
  {
   "cell_type": "code",
   "execution_count": 44,
   "id": "7ffb448c",
   "metadata": {},
   "outputs": [
    {
     "name": "stdout",
     "output_type": "stream",
     "text": [
      "Decision Tree Accuracy: 1.00\n",
      "SVM Accuracy: 0.70\n",
      "Logistic Regression Accuracy: 0.83\n"
     ]
    }
   ],
   "source": [
    "import numpy as np\n",
    "from sklearn.model_selection import train_test_split\n",
    "from sklearn.metrics import accuracy_score\n",
    "from sklearn.tree import DecisionTreeClassifier\n",
    "from sklearn.ensemble import RandomForestClassifier\n",
    "from sklearn.svm import SVC\n",
    "from sklearn.linear_model import LogisticRegression\n",
    "\n",
    "\n",
    "# Initialize and train multiple classifiers\n",
    "classifiers = {\n",
    "    \"Decision Tree\": DecisionTreeClassifier(),\n",
    "    \"SVM\": SVC(),\n",
    "    \"Logistic Regression\": LogisticRegression()\n",
    "}\n",
    "\n",
    "for clf_name, clf in classifiers.items():\n",
    "    clf.fit(X_train, y_train)  # Train the classifier\n",
    "    y_pred = clf.predict(X_val)\n",
    "#         import pickle\n",
    "#         with open('DT.pkl', 'wb') as file:\n",
    "#             pickle.dump(clf, file)\n",
    "      # Make predictions\n",
    "\n",
    "    accuracy = accuracy_score(y_val, y_pred)  # Calculate accuracy\n",
    "    print(f\"{clf_name} Accuracy: {accuracy:.2f}\")\n"
   ]
  },
  {
   "cell_type": "code",
   "execution_count": null,
   "id": "f5fb8acc",
   "metadata": {},
   "outputs": [],
   "source": []
  },
  {
   "cell_type": "code",
   "execution_count": null,
   "id": "a70987f5",
   "metadata": {},
   "outputs": [],
   "source": []
  }
 ],
 "metadata": {
  "kernelspec": {
   "display_name": "Python 3 (ipykernel)",
   "language": "python",
   "name": "python3"
  },
  "language_info": {
   "codemirror_mode": {
    "name": "ipython",
    "version": 3
   },
   "file_extension": ".py",
   "mimetype": "text/x-python",
   "name": "python",
   "nbconvert_exporter": "python",
   "pygments_lexer": "ipython3",
   "version": "3.11.4"
  }
 },
 "nbformat": 4,
 "nbformat_minor": 5
}
